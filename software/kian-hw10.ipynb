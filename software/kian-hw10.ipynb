{
 "cells": [
  {
   "cell_type": "markdown",
   "id": "b876ae6c-4111-46e4-b692-3c71f99e12ed",
   "metadata": {},
   "source": [
    "# HW 10.3: Polishing"
   ]
  },
  {
   "cell_type": "markdown",
   "id": "e060ff2e-c5d2-4dc5-8048-1902a4d3a738",
   "metadata": {},
   "source": [
    "In preparation for submitting 10.3 option 2 (a reproducible website detailing our various exploits with the microtubule catastrophe dataset), I'm going to do option 1 (a polished Jupyter notebook doing the same), to help get my thoughts organized. Afterwards, I'll take some time to transfer over the relevant parts into html."
   ]
  },
  {
   "cell_type": "markdown",
   "id": "252c7579-2b4f-46b9-84e5-7514912c62b5",
   "metadata": {},
   "source": [
    "## The dataset"
   ]
  },
  {
   "cell_type": "markdown",
   "id": "df138044-ef30-439d-bc1b-69ed32e2ffbf",
   "metadata": {},
   "source": [
    "The data come from [Gardner et al](https://www.sciencedirect.com/science/article/pii/S0092867411012876?via%3Dihub).\n",
    "- File 1 (control): https://s3.amazonaws.com/bebi103.caltech.edu/data/gardner_time_to_catastrophe_dic_tidy.csv\n",
    "- File 2 (exp): https://s3.amazonaws.com/bebi103.caltech.edu/data/gardner_mt_catastrophe_only_tubulin.csv\n",
    "\n",
    "We've encountered this data at multiple times throughout the course. Specifically,\n",
    "- HW 2.3: we plotted ECDFs from File 1.\n",
    "- HW 6.2: we simulated Gardner's experiments using a Poisson process model, and compared its analytical CDF to the ECDFs from File 1.\n",
    "- HW 7.1: We explored File 1 in more detail: comparing labeled vs. unlabeled tubulin, doing hypothesis testing, and constructing confidence intervals for plug-in parameter estimates. We showed there is little difference in catastrophe times for labeled vs. unlabeled tubulin.\n",
    "- HW 9.2: We did some tricky MLE work on Gardner's Gamma distributed model, and might have computed bootstrap confidence intervals (that was optional). File 1.\n",
    "- HW 10.1: This will be the main source for our website. Previously, we'd explored File 1, which contained data from a labeled vs. unlabeled tubulin control experiment. Here, we used File 2, which compares catastrophe times for labeled tubulin across titrated total tubulin concentrations. We carried out some EDA, compared two models of catastrophe time (Gamma vs. successive Poisson processes), and used our preferred model to derive parameter estimates for multiple experimental conditions. We used these findings — paired with the knowledge that microtubules polymerize faster at higher total tubulin concentrations – to make some broad generalizations about the system.\n",
    "\n",
    "With a quick refresher now complete, I'll start scaffolding my analysis:"
   ]
  },
  {
   "cell_type": "markdown",
   "id": "752d55f1-0b14-4fab-a424-654f31764ae4",
   "metadata": {},
   "source": [
    "## Abstract"
   ]
  },
  {
   "cell_type": "markdown",
   "id": "5dae5d88-9556-49ca-8513-a3661865ebd2",
   "metadata": {},
   "source": [
    "> \"The four stages of acceptance:\n",
    "> 1. This is worthless nonsense.\n",
    "> 2. This is an interesting, but perverse, point of view.\n",
    "> 3. This is true, but quite unimportant.\n",
    "> 4. I always said so.\"\n",
    "> -- JBS Haldane, 1963"
   ]
  },
  {
   "cell_type": "markdown",
   "id": "2fc653e9-ff60-41bb-a21d-bc6b93c1b48f",
   "metadata": {},
   "source": [
    "The structure of the eukaryotic cell arises from the dance of the cytoskeleton, a network of countless protein filaments that shrink and grow dynamically. A major constituent of this network is tubulin, a monomeric protein which can polymerize to form large strands called microtubules. Along with their associated motor proteins, microtubules serve as intracellular highways for shuttling and organizing the contents of the cytoplasm. They are characterized by a slow growth phase followed by sudden rapid depolymerization known as _catastrophe_. A precise, quantitative understanding of microtubule dynamics would help elucidate the fundamental principles controlling growth and form inside the crowded cell.\n",
    "\n",
    "In a 2011 publication, [Gardner et al.](https://www.sciencedirect.com/science/article/pii/S0092867411012876?via%3Dihub#!) studied the occurence of microtubule catastrophe by watching the behavior of tubulin _in vitro_ (along with many other experiments). Here, we explore their dataset by validating the results of a control experiment, and subsequently compare two statistical models for the dynamics of microtubule catastrophe. We use these findings to identify general principles underlying **wrap up**.\n"
   ]
  },
  {
   "cell_type": "markdown",
   "id": "3e98db15-3829-47d4-bff8-b4ab543cb9aa",
   "metadata": {},
   "source": [
    "## Methods"
   ]
  },
  {
   "cell_type": "markdown",
   "id": "836527d7-ba37-42cf-a336-ae58985fe726",
   "metadata": {},
   "source": [
    "### Experimental Setup\n",
    "\n",
    "Fluorescently-labeled GTP-tubulin at a concentration of 12 μM was assembled onto stabilized seeds of GMPCPP-tubulin on a coverslip. Total internal reflection fluorescence (TIRF) microscopy was then used to track microtubule dynamics and record catastrophe times (Fig 2A, green). To control for phototoxicity, these measurements were repeated with unlabeled GTP-tubulin using differential interference contrast (DIC) microscopy (Fig 2A, blue). These data can be found in **File 1**.\n",
    "\n",
    "<img src=\"assets/img/fig2-gardner.jpg\" width=400 height=400/>\n",
    "\n",
    "_Fig 2A: Control experiments with labeled tubulin measured by TIRF microscopy (green) and unlabeled tubulin measured by DIC microscopy (blue). An ECDF of catastrophe times is shown._\n",
    "\n",
    "Using TIRF, catastrophe times were then measured for a range of tubulin concentrations from 7 to 14 μM (Fig 3D). These data can be found in **File 2**.\n",
    "\n",
    "<img src=\"assets/img/fig3-gardner.jpg\" width=400 height=400/>\n",
    "\n",
    "_Fig 3D: ECDFs of catastrophe times for various concentrations of free labeled GTP-tubulin. Red: 7 μM; yellow: 9 μM; green: 10 μM; blue: 12 μM; purple: 14 μM._"
   ]
  },
  {
   "cell_type": "markdown",
   "id": "3beaf7a3-9b44-4fad-a223-409a3804eebe",
   "metadata": {},
   "source": [
    "## Results"
   ]
  },
  {
   "cell_type": "markdown",
   "id": "3253c93c-e0c5-4d77-9890-87790102d93e",
   "metadata": {},
   "source": [
    "### Validating Controls\n",
    "\n",
    "To begin, we set out to validate the dataset and check whether labeled tubulin catastrophizes significantly differently than unlabeled tubulin, as was done in Figure 2A. We generated ECDFs from the control data with 95% confidence intervals, confirming that they recapitulate the results of Figure 2A (`plot_ECDF_controls()`):\n",
    "\n",
    "<img src=\"assets/img/control-ecdfs\" width=500 height=500/>\n",
    "\n",
    "From visual inspection, it appears that the mean time to catastrophe is identically distributed for both tubulin types. We further quantified this by constructing a null hypothesis significance test (NHST) using the [two-sample Kolmogorov-Smirnov test](https://en.wikipedia.org/wiki/Kolmogorov%E2%80%93Smirnov_test#Two-sample_Kolmogorov%E2%80%93Smirnov_test), for the null hypothesis that the distributions of mean time to catastrophe are identical for labeled and unlabeled tubulin. This yielded a KS value of 0.103, and a p-value of 0.451, meaning we cannot reasonably reject the null hypothesis (`control_NHST()`). Therefore, our NHST also suggests that the distributions of catastrophe times are indeed identical.\n",
    "\n",
    "With this baseline validation complete, we proceeded to analyze the results of the next experiment.\n",
    "\n",
    "### Catastrophe as a Function of Tubulin Levels\n",
    "\n",
    "We next explored the effect of titrating free tubulin concentrations on catastrophe times, using the data provided in File 2. We generated ECDFs with 95% confidence intervals, recapitulating the results of Figure 3D (`plot_ECDF_exp()`):\n",
    "\n",
    "<img src=\"assets/img/exp-ecdfs\" width=500 height=500/>\n",
    "\n",
    "#### A Tournament of Two Models\n",
    "\n",
    "Next, we sought to compare two potential models for microtubule catastrophe.\n",
    "\n",
    "In their paper, Gardner et al. model microtubule catastrophe times with a Gamma distribution, with the following justification: we know that the Gamma distribution describes the waiting time for $\\alpha$ arrivals of a Poisson process. Inside the cell, microtubule instability arises as a function of various stochastic molecular events, many of which can be thought of as Poisson processes. For example, the loss of a GTP cap from a tubulin subunit happens infrequently and at some average rate. Assuming that the events leading to catastrophe (e.g. the loss of a critical number of GTP caps) all occur at the same rate, then the time to catastrophe is the sum of exponentially distributed waiting times, which indeed makes it Gamma.[^1]\n",
    "\n",
    "Alternatively, we might posit that two successive biochemical processes (for example, the loss of two GTP caps) might have to occur in order to trigger catastrophe. If each process is Poisson, then this system could be modeled as the sum of two Exponential waiting times. When the rates are unique, this model is defined analytically by the following PDF:\n",
    "\n",
    "$$f(y;\\beta_1, \\beta_2)=(\\frac{\\beta_1\\beta_2}{\\beta_2 - \\beta_1})(\\mathrm{e}^{-\\beta_1 t} - \\mathrm{e}^{-\\beta_2 t})$$\n",
    "\n",
    "where each $\\beta$ is the arrival rate for the corresponding Poisson process. \n",
    "\n",
    "<!-- We can double-check this by comparing it to the ECDF:\n",
    "<img src=\"assets/img/successive-comparison\" width=500 height=500/> -->\n",
    "\n",
    "<!-- We compared both models using measurements from the 12 μM tubulin condition, before obtaining parameter estimates for other concentrations. -->\n",
    "\n",
    "[^1] It would be interesting to investigate whether the various assumptions associated with this model are valid in practice. For example, the mechanism of GTP hydrolysis may mean that different caps are lost at different rates. The \"memoryless\" property associated with Poisson processes may also be violated if a binding/unbinding event biases the probabilities of subsequent events, which happens in some thermodynamic models of allostery.\n",
    "\n",
    "##### Gamma\n",
    "\n",
    "The Gamma model is parametrized by $\\alpha$, the number of arrivals, and $\\beta$, the arrival rate. We obtained maximum likelihood estimates (MLEs) for both parameters, along with bootstrapped 95% confidence intervals (n=10,000, parametric method, `report_gamma_ci()`), based on the control data for labeled tubulin:\n",
    "\n",
    "- MLE of $\\alpha$ w/ 95% CI, labeled tubulin: 2.4076, [2.0384, 2.9255]\n",
    "- MLE of $\\beta$ w/ 95% CI, labeled tubulin: 0.0055, [0.0045, 0.0068]\n",
    "\n",
    "By using these parameter estimates to parametrize a Gamma distribution, we can then compare our model to the dataset (`gamma_compare_MLE_ECDF()`):\n",
    "\n",
    "<img src=\"assets/img/gamma-mle-control\" width=500 height=500/>\n",
    "\n",
    "We observe excellent agreement between the Gamma model and the observations from experiment.\n",
    "\n",
    "##### Successive Poisson\n",
    "\n",
    "We similarly computed MLEs for the successive Poisson process model (`report_diffpoisson()`). We note that when $\\beta_1 = \\beta_2$, the successive Poisson model collapses back into the Gamma model. CIs were not computed due to poor work ethic.\n",
    "\n",
    "- MLE of $\\beta_1$, labeled tubulin: 0.0050\n",
    "- MLE of $\\beta_2$, labeled tubulin: 0.0042\n",
    "\n",
    "It is worth mentioning that we have encountered the problem of non-identifiability; it is impossible to tell from these data alone which physical processes have which of these parameters, since the results would be identical if we switched their labels. Nonetheless, we can once again parametrize our distribution using these estimates and compare it to the ECDF (`diffpoisson_compare_MLE_ECDF()`):\n",
    "\n",
    "<img src=\"assets/img/diffpoisson-mle-control\" width=500 height=500/>\n",
    "\n",
    "The agreement between the model and experiment is still quite good, albeit with some divergence at shorter timescales.\n",
    "\n",
    "##### Model Assessment\n",
    "\n",
    "We can superimpose both CDFs at once to compare them more easily (`compare_model_CDFs()`):\n",
    "\n",
    "<img src=\"assets/img/compare-control\" width=500 height=500/>\n",
    "\n",
    "It appears that the Gamma model is a better fit. We can more rigorously confirm this by calculating the Akaike information criterion (AIC) for both models; the model with the larger weight is a more likely match to the underlying generative distribution (`aic()`):\n",
    "\n",
    "- Gamma weight: 0.882\n",
    "- Successive Poisson weight: 0.118\n",
    "\n",
    "Therefore, the Gamma model does a better job of capturing the underlying distribution of the data than the Successive Poisson model.\n",
    "\n",
    "#### A Microtubule History (Written By the Victor)\n",
    "\n",
    "With the Gamma model emerging triumphant, we used it to interpret the results of the titrated tubulin experiments (`report_gamma_params()`):\n",
    "\n",
    "\n",
    "|Free tubulin concentration (uM)| $\\alpha$ MLE | $\\beta$ MLE |\n",
    "|---|--|--|\n",
    "|7|2.443781|0.007550\n",
    "|9|2.680065|0.008780\n",
    "|10|3.210908|0.009030\n",
    "|12|2.915574|0.007661\n",
    "|14|3.361823|0.007176\n",
    "\n",
    "We note that $\\alpha$ generally increases with concentration, but $\\beta$ peaks around 10 μM before decreasing. Since we know that tubulin polymerizes more quickly at higher free tubulin concentrations, it seems that more \"events\" can occur before the onset of catastrophe in this regime. However, the trend in $\\beta$ may indicate that at very high concentrations, there is some stoichiometric exclusion of other necessary factors which are also needed for microtubule stability."
   ]
  },
  {
   "cell_type": "markdown",
   "id": "56d30b14-8b8e-4682-adee-f7ce377819f7",
   "metadata": {},
   "source": [
    "## Discussion"
   ]
  },
  {
   "cell_type": "markdown",
   "id": "932c4bc1-e7a0-4a2c-ad4c-a3d69bb50ca1",
   "metadata": {},
   "source": [
    "We showed that the _in vitro_ dynamics of fluorescently-labeled tubulin are identical to those of unlabeled tubulin, and that a Gamma distribution can serve as an effective model for the mean time to microtubule catastrophe. Future experimental work could further dissect the role of additional molecular factors on microtubule stability, and provide additional observations with which to \"assault\" the Gamma model, in order to sharpen its predictive power."
   ]
  },
  {
   "cell_type": "markdown",
   "id": "967f90ac-fc95-4b16-af39-8f62ef0083e2",
   "metadata": {},
   "source": [
    "### Acknowledgements"
   ]
  },
  {
   "cell_type": "markdown",
   "id": "dff6edee-f5d1-4266-84aa-4bd38ae6fb73",
   "metadata": {},
   "source": [
    "We'd like to thank Professor Justin Bois and the intrepid BE/Bi 103a TAs of 2021 for an excellent and challenging quarter, as well as Gardner et al. for sharing their dataset!"
   ]
  },
  {
   "cell_type": "markdown",
   "id": "6158fa93-941a-41ff-a54d-40eca71da790",
   "metadata": {},
   "source": [
    "### Code and Data"
   ]
  },
  {
   "cell_type": "markdown",
   "id": "646f6fe4-9066-4e2d-8cfa-401110554a21",
   "metadata": {},
   "source": [
    "Link paper, data files, and code"
   ]
  }
 ],
 "metadata": {
  "kernelspec": {
   "display_name": "Python 3 (ipykernel)",
   "language": "python",
   "name": "python3"
  },
  "language_info": {
   "codemirror_mode": {
    "name": "ipython",
    "version": 3
   },
   "file_extension": ".py",
   "mimetype": "text/x-python",
   "name": "python",
   "nbconvert_exporter": "python",
   "pygments_lexer": "ipython3",
   "version": "3.8.11"
  }
 },
 "nbformat": 4,
 "nbformat_minor": 5
}
